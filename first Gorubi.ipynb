{
 "cells": [
  {
   "cell_type": "code",
   "execution_count": 2,
   "metadata": {},
   "outputs": [
    {
     "name": "stdout",
     "output_type": "stream",
     "text": [
      "Looking in indexes: https://pypi.gurobi.comNote: you may need to restart the kernel to use updated packages.\n",
      "\n",
      "Collecting gurobipy\n",
      "  Downloading https://pypi.gurobi.com/gurobipy/gurobipy-9.1.1-cp38-cp38-win_amd64.whl (8.6 MB)\n",
      "Installing collected packages: gurobipy\n",
      "Successfully installed gurobipy-9.1.1\n"
     ]
    }
   ],
   "source": [
    "pip install -i https://pypi.gurobi.com gurobipy"
   ]
  },
  {
   "cell_type": "markdown",
   "metadata": {},
   "source": [
    "# 1.Problem description, assumptions\n",
    "-------------------------------\n",
    "In RMS, we have a set of i operations and m set of machines for processing. Based on the processing route, jobs are divided into k sets. Each Job in a group has the same processing route. Machines are reconfigured To prepare machines for each group; therefore, we need k different configurations. Since each configuration's jobs have the same processing route, each configuration is a flow shop problem. It is required to set up the system for a new configuration. This setup's size depends on the two following configurations (going from configuration to which configurations). Reconfiguring from a configuration to an entirely different one is more extensive. Hence, the configuration sequence is also a single machine problem with sequence-dependent setup times. All in all, the RMS problem is a combined problem of (permutation flow shop and single machine problems).\n",
    "This research discusses the design of RCMSs. These systems are defined as multi RMCs, RMTs, material handling, and storehouse systems. Each RMT within an RMC has primary and configuration modules. A particular mixture of both different primary and configuration modules gives a unique operational capability to the RMT.\n",
    "The CRMS design problem involves the grouping of RMTs in each RMC by using information about the operation sequence for each part type and the assignment of each auxiliary module to the RMTs. In this research, an optimization model for the design of CRMS is proposed. The goal of the defined model is to best balance sustainability, social, environmental, and economical.\n",
    "The proposed optimization model adopts the following assumptions according to the standard literature within CRMS modeling:\n",
    "Operation-based process plan for the parts is known and fixed; Requirement of modules and machine-module compatibility information is known and unchangeable;\n",
    "Size limit for each RMC is to be given;\n",
    "Unique assignment of the machines to each cell;\n",
    "Auxiliary modules are available when needed;\n",
    "CNC machines are not considered in the optimization at this stage since they do not include elements of configurability.\n",
    "These assumptions are still realistic and representative of typical production environments. Furthermore, the model is flexible and can be adapted to match different beliefs (e.g., mono or multi-product model, mono or multi-period model).\n"
   ]
  },
  {
   "cell_type": "markdown",
   "metadata": {},
   "source": [
    "# Inserting Library"
   ]
  },
  {
   "cell_type": "code",
   "execution_count": 3,
   "metadata": {},
   "outputs": [],
   "source": [
    "import gurobipy as gp\n",
    "from gurobipy import GRB\n",
    "from random import randint"
   ]
  },
  {
   "cell_type": "markdown",
   "metadata": {},
   "source": [
    "# 2.Define Sets(Indices)"
   ]
  },
  {
   "cell_type": "markdown",
   "metadata": {},
   "source": [
    "$ i\\,\\,\\,\\,\\,\\,\\,\\,\\,\\,\\,{\\rm{Products}}\\,\\,\\,\\,\\,\\,\\,\\,\\,\\,\\,\\,\\,\\,\\,\\,\\,\\,\\,\\,i\\,\\,\\, = \\,\\,1,\\,...\\,,P $"
   ]
  },
  {
   "cell_type": "code",
   "execution_count": null,
   "metadata": {},
   "outputs": [],
   "source": [
    "num_Products = 3 # set of Products\n",
    "products = [f\"pro{i}\" for i in range(num_Products)]"
   ]
  },
  {
   "cell_type": "markdown",
   "metadata": {},
   "source": [
    "$ o\\,\\,\\,\\,\\,\\,\\,\\,\\,\\,{\\rm{Operations}}\\,\\,\\,\\,\\,\\,\\,\\,\\,\\,\\,\\,\\,\\,\\,o\\,\\, = \\,\\,1,\\,..\\,.\\,,O $"
   ]
  },
  {
   "cell_type": "code",
   "execution_count": null,
   "metadata": {},
   "outputs": [],
   "source": [
    "num_operations = 5 # set of operations\n",
    "operations = [f\"opr{o}\" for o in range(num_operations)]"
   ]
  },
  {
   "cell_type": "markdown",
   "metadata": {},
   "source": [
    "$ m\\,\\,\\,\\,\\,\\,\\,\\,\\,\\begin{array}{*{20}{l}}\n",
    "{{\\rm{Machines}}}\n",
    "\\end{array}\\,\\,\\,\\,\\,\\,\\,\\,\\,\\,\\,\\,\\,\\,\\,\\,\\,\\,m\\, = \\,1,...,M $"
   ]
  },
  {
   "cell_type": "code",
   "execution_count": null,
   "metadata": {},
   "outputs": [],
   "source": [
    "num_machines = 5 # set of machines\n",
    "machines = [f\"mac{m}\" for m in range(num_machines)]"
   ]
  },
  {
   "cell_type": "markdown",
   "metadata": {},
   "source": [
    "$ k\\,\\,\\,\\,\\,\\,\\,\\,\\,\\,{\\rm{Configurations}}\\,\\,\\,\\,\\,\\,\\,k\\, = \\,\\,1,...,K{\\rm{\\;}}\\, $"
   ]
  },
  {
   "cell_type": "code",
   "execution_count": null,
   "metadata": {},
   "outputs": [],
   "source": [
    "num_configurations = 5 # set of configurations\n",
    "configurations = [f\"con{k}\" for k in range(num_configurations)]"
   ]
  },
  {
   "cell_type": "markdown",
   "metadata": {},
   "source": [
    "$ j\\,\\,\\,\\,\\,\\,\\,\\,\\,\\,{\\rm{Machine \\, Cells}}\\,\\,\\,\\,\\,\\,\\,j\\, = \\,\\,1,...,J{\\rm{\\;}}\\, $"
   ]
  },
  {
   "cell_type": "code",
   "execution_count": null,
   "metadata": {},
   "outputs": [],
   "source": [
    "num_cells = 2 # set of cells\n",
    "cells = [f\"cell{c}\" for c in range(num_cells)]"
   ]
  },
  {
   "cell_type": "markdown",
   "metadata": {},
   "source": [
    "$ t\\,\\,\\,\\,\\,\\,\\,\\,\\,\\,\\,\\begin{array}{*{20}{l}} {{\\rm{Time \\, Periods}}} \\end{array}\\,\\,\\,\\,\\,\\,\\,\\,\\,\\,t\\,\\, = 1,...,T $"
   ]
  },
  {
   "cell_type": "code",
   "execution_count": null,
   "metadata": {},
   "outputs": [],
   "source": [
    "num_times = 6 # set of cell\n",
    "times = [f\"time{c}\" for c in range(num_times)]"
   ]
  },
  {
   "cell_type": "markdown",
   "metadata": {},
   "source": [
    "# 3.Define Parameters"
   ]
  },
  {
   "cell_type": "markdown",
   "metadata": {},
   "source": [
    "$ {P_j}\\,\\,\\,\\,\\,\\,\\,\\,\\,\\,\\,\\,\\,\\,{\\rm{Maximum \\, number \\, of \\, machines \\, in \\, each \\, cell}}\\,j $"
   ]
  },
  {
   "cell_type": "markdown",
   "metadata": {},
   "source": [
    "| cell number  | cell1   | cell2   |\n",
    "|--------------|---------|---------|\n",
    "| capacity     |     3   |    3    |"
   ]
  },
  {
   "cell_type": "code",
   "execution_count": null,
   "metadata": {},
   "outputs": [],
   "source": [
    "max_machines_in_cell = 3 #Pj\n",
    "pj = {c : max_machines_in_cell for c in cells}"
   ]
  },
  {
   "cell_type": "markdown",
   "metadata": {},
   "source": [
    "${G_{omk}}\\,\\,\\,\\,\\,\\,\\,\\,\\,\\,{\\rm{1 \\, if \\, operation \\,}}\\,o\\,{\\rm{can \\, be \\, performed \\, on \\, machine}}\\,m\\,{\\rm{using \\, configurations\\, module\\, type\\,}}\\,k\\,{\\rm{; }}0{\\rm{\\, otherwise\\,}}\\,\\left( {\\,Binary\\,} \\,\\right)$"
   ]
  },
  {
   "cell_type": "code",
   "execution_count": null,
   "metadata": {},
   "outputs": [],
   "source": [
    "gomk ={(o,m,k): 0 for o in operations for m in machines for k in configurations }\n",
    "gomk_update = ({\n",
    "   ('opr0','mac0','con0') : 1, \n",
    "   ('opr0','mac1','con3') : 1,\n",
    "   ('opr0','mac2','con4') : 1,\n",
    "   \n",
    "   ('opr1','mac0','con1') : 1,\n",
    "   ('opr1','mac1','con3') : 1,\n",
    "   ('opr1','mac1','con1') : 1,\n",
    "   \n",
    "   ('opr2','mac2','con0') : 1,\n",
    "   ('opr2','mac4','con2') : 1,\n",
    "   ('opr2','mac3','con1') : 1,\n",
    "   \n",
    "   ('opr3','mac1','con4') : 1,\n",
    "   ('opr3','mac3','con4') : 1,\n",
    "   ('opr3','mac4','con0') : 1,\n",
    "   \n",
    "   ('opr4','mac0','con3') : 1,\n",
    "   ('opr4','mac2','con2') : 1,\n",
    "   ('opr4','mac3','con0') : 1,\n",
    "   \n",
    "\n",
    "   \n",
    "    })\n",
    "gomk.update(gomk_update)"
   ]
  },
  {
   "cell_type": "markdown",
   "metadata": {},
   "source": [
    "${t_{ijj'}}\\,\\,\\,\\,\\,\\,\\,\\,\\,\\,\\,\\,\\,{\\rm{Travel\\, time\\, for\\, product}}\\,i\\,{\\rm{\\,from\\, cell\\,}}\\,{\\rm{j}}\\,{\\rm{\\,to\\, cell\\,}}\\,\\,j'\\,(\\min )$"
   ]
  },
  {
   "cell_type": "code",
   "execution_count": null,
   "metadata": {},
   "outputs": [],
   "source": [
    "tijj1 ={(i,j,j1): 0 for i in products for j in cells for j1 in cells }\n",
    "tijj1_update = {\n",
    "    ('pro0','cell0','cell1') : 0.5,\n",
    "    ('pro0','cell0','cell2') : 0.75,\n",
    "    ('pro0','cell1','cell2') : 1,\n",
    "    \n",
    "    ('pro1','cell0','cell1') : 1,\n",
    "    ('pro1','cell0','cell2') : 1.5,\n",
    "    ('pro1','cell1','cell2') : 2,\n",
    "    \n",
    "    ('pro2','cell0','cell1') : 1,\n",
    "    ('pro2','cell0','cell2') : 1.25,\n",
    "    ('pro2','cell1','cell2') : 1.5    \n",
    "    \n",
    "    }\n",
    "tijj1.update(tijj1_update)"
   ]
  },
  {
   "cell_type": "markdown",
   "metadata": {},
   "source": [
    "${\\lambda _{mk}}\\,\\,\\,\\,\\,\\,\\,\\,\\,\\,\\,\\,\\begin{array}{*{20}{l}}\n",
    "{{\\rm{Assembly\\, time\\, of\\, }}\\,{\\rm{\\,configurations\\,}}\\,k\\,{\\rm{\\,on\\, machine}}\\,m\\,}\n",
    "\\end{array}(\\min )$"
   ]
  },
  {
   "cell_type": "code",
   "execution_count": null,
   "metadata": {},
   "outputs": [],
   "source": [
    "lamk ={(m,k): 0 for m in machines for k in configurations}\n",
    "listlamk = {\n",
    "        ('mac0','con0') : 4,\n",
    "        ('mac0','con1') : 3,\n",
    "        ('mac0','con3') : 5,\n",
    "        \n",
    "        ('mac1','con3') : 6,\n",
    "        ('mac1','con4') : 2,\n",
    "\n",
    "        \n",
    "        ('mac2','con0') : 3,\n",
    "        ('mac2','con4') : 4,\n",
    "        ('mac2','con2') : 5,\n",
    "        \n",
    "        ('mac3','con4') : 2,\n",
    "        ('mac3','con1') : 4,\n",
    "        ('mac3','con0') : 6,\n",
    "        \n",
    "        ('mac4','con0') : 4,\n",
    "        ('mac4','con2') : 3\n",
    "\n",
    "        \n",
    "        \n",
    "        }\n",
    "\n",
    "for i in listlamk:\n",
    "    listlamk[i]= listlamk[i]*6\n",
    "lamk.update(listlamk)"
   ]
  }
 ],
 "metadata": {
  "kernelspec": {
   "display_name": "Python 3",
   "language": "python",
   "name": "python3"
  },
  "language_info": {
   "codemirror_mode": {
    "name": "ipython",
    "version": 3
   },
   "file_extension": ".py",
   "mimetype": "text/x-python",
   "name": "python",
   "nbconvert_exporter": "python",
   "pygments_lexer": "ipython3",
   "version": "3.8.3"
  }
 },
 "nbformat": 4,
 "nbformat_minor": 4
}
